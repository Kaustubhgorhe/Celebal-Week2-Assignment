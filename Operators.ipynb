{
  "nbformat": 4,
  "nbformat_minor": 0,
  "metadata": {
    "colab": {
      "name": "Operators.ipynb",
      "provenance": [],
      "authorship_tag": "ABX9TyMM/WUEF6jMKG7uS/JOgoJk",
      "include_colab_link": true
    },
    "kernelspec": {
      "name": "python3",
      "display_name": "Python 3"
    },
    "language_info": {
      "name": "python"
    }
  },
  "cells": [
    {
      "cell_type": "markdown",
      "metadata": {
        "id": "view-in-github",
        "colab_type": "text"
      },
      "source": [
        "<a href=\"https://colab.research.google.com/github/Kaustubhgorhe/Celebal-Week2-Assignment/blob/main/Operators.ipynb\" target=\"_parent\"><img src=\"https://colab.research.google.com/assets/colab-badge.svg\" alt=\"Open In Colab\"/></a>"
      ]
    },
    {
      "cell_type": "code",
      "execution_count": 2,
      "metadata": {
        "colab": {
          "base_uri": "https://localhost:8080/"
        },
        "id": "OgZvtblCZICr",
        "outputId": "403e9b69-a1d4-4bf7-bd4f-c63240843fc7"
      },
      "outputs": [
        {
          "output_type": "stream",
          "name": "stdout",
          "text": [
            "a + b = 30\n",
            "a - b = 10\n",
            "a * b = 200\n",
            "a / b = 2.0\n",
            "a // b = 2\n",
            "a * b = 200\n"
          ]
        }
      ],
      "source": [
        "a = 20\n",
        "b = 10\n",
        "\n",
        "print('a + b =',a+b)\n",
        "\n",
        "print('a - b =',a-b)\n",
        "\n",
        "print('a * b =',a*b)\n",
        "\n",
        "print('a / b =',a/b)\n",
        "\n",
        "print('a // b =',a//b)\n",
        "\n",
        "print('a * b =',a*b)"
      ]
    },
    {
      "cell_type": "code",
      "source": [
        "a = 50\n",
        "b = -50\n",
        "\n",
        "# print bitwise right shift operator\n",
        "print(\"a >> 1 =\", a >> 1)\n",
        "print(\"b >> 1 =\", b >> 1)\n",
        "\n",
        "a = 5\n",
        "b = -10\n",
        "\n",
        "# print bitwise left shift operator\n",
        "print(\"a << 1 =\", a << 1)\n",
        "print(\"b << 1 =\", b << 1)"
      ],
      "metadata": {
        "colab": {
          "base_uri": "https://localhost:8080/"
        },
        "id": "8yW88OgOaESc",
        "outputId": "5a360373-d765-4702-a570-e63dae98801b"
      },
      "execution_count": 3,
      "outputs": [
        {
          "output_type": "stream",
          "name": "stdout",
          "text": [
            "a >> 1 = 25\n",
            "b >> 1 = -25\n",
            "a << 1 = 10\n",
            "b << 1 = -20\n"
          ]
        }
      ]
    },
    {
      "cell_type": "code",
      "source": [
        "a = 10\n",
        "b = 12\n",
        "\n",
        "print('a > b is',a>b)\n",
        "\n",
        "print('a < b is',a<b)\n",
        "\n",
        "print('a == b is',a==b)\n",
        "\n",
        "print('a != b is',a!=b)\n",
        "\n",
        "print('a >= b is',a>=b)\n",
        "\n",
        "print('a <= b is',a<=b)"
      ],
      "metadata": {
        "colab": {
          "base_uri": "https://localhost:8080/"
        },
        "id": "ekV_XvFZaYQB",
        "outputId": "81fd8eae-f9b5-407e-99c4-7615313fff0a"
      },
      "execution_count": 4,
      "outputs": [
        {
          "output_type": "stream",
          "name": "stdout",
          "text": [
            "a > b is False\n",
            "a < b is True\n",
            "a == b is False\n",
            "a != b is True\n",
            "a >= b is False\n",
            "a <= b is True\n"
          ]
        }
      ]
    },
    {
      "cell_type": "code",
      "source": [
        "a = 10\n",
        "a += 5\n",
        "#a = a + 5\n",
        "\n",
        "# a -= 5\t\n",
        "# a = a - 5\n",
        "\n",
        "#a *= 5\t\n",
        "# a = a * 5\n",
        "\n",
        "#a /= 5\t\n",
        "# = a / 5\n",
        "\n",
        "#a %= 5\t\n",
        "#a = a % 5\n",
        "\n",
        "#a //= 5\t\n",
        "#a = a // 5\n",
        "\n",
        "# a **= 5\t\n",
        "# a = a ** 5\n",
        "\n",
        "# a &= 5\t\n",
        "# a = a & 5\n",
        "\n",
        "# a |= 5\t\n",
        "# a = a | 5\n",
        "\n",
        "# a ^= 5\t\n",
        "# a = a ^ 5\n",
        "\n",
        "# a >>= 5\t\n",
        "# a = a >> 5\n",
        "\n",
        "#a <<= 5\t\n",
        "# a = a << 5\n",
        "print(a)"
      ],
      "metadata": {
        "colab": {
          "base_uri": "https://localhost:8080/"
        },
        "id": "qYVXHjADa2y7",
        "outputId": "110260f2-528f-42a5-bd7a-2bc9a327cb90"
      },
      "execution_count": 6,
      "outputs": [
        {
          "output_type": "stream",
          "name": "stdout",
          "text": [
            "15\n"
          ]
        }
      ]
    }
  ]
}